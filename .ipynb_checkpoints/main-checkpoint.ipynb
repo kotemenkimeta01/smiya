{
 "cells": [
  {
   "cell_type": "code",
   "execution_count": 4,
   "id": "6fa3e15e",
   "metadata": {},
   "outputs": [],
   "source": [
    "import streamlit as st\n",
    "import numpy as np\n",
    "import pandas as pd\n",
    "\n",
    "st.title('Streamlit 超入門')\n",
    "\n",
    "st.write('DataFrame')\n",
    "\n",
    "streamlit run C:\\Users\\kotem\\anaconda3\\Lib\\site-packages\\ipykernel_launcher.py"
   ]
  }
 ],
 "metadata": {
  "kernelspec": {
   "display_name": "Python 3 (ipykernel)",
   "language": "python",
   "name": "python3"
  },
  "language_info": {
   "codemirror_mode": {
    "name": "ipython",
    "version": 3
   },
   "file_extension": ".py",
   "mimetype": "text/x-python",
   "name": "python",
   "nbconvert_exporter": "python",
   "pygments_lexer": "ipython3",
   "version": "3.9.7"
  }
 },
 "nbformat": 4,
 "nbformat_minor": 5
}
